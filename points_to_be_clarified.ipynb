{
 "cells": [
  {
   "cell_type": "markdown",
   "id": "ec1ca942",
   "metadata": {},
   "source": [
    "# Points to be clarified"
   ]
  },
  {
   "cell_type": "markdown",
   "id": "6afeddc3",
   "metadata": {},
   "source": [
    "#### 1) To show the recommendations in DT, should we take the information from the solutions_summary.csv file ?"
   ]
  },
  {
   "cell_type": "markdown",
   "id": "46b3a37d",
   "metadata": {},
   "source": [
    "#### Answer: YES"
   ]
  },
  {
   "cell_type": "markdown",
   "id": "f5388794",
   "metadata": {},
   "source": [
    "| Solution | Comfort (%) | Energy (Wh) | Avg Temp (°C) | Avg RH (%) | Energy Savings (%) |\n",
    "|----------|-------------|-------------|---------------|------------|--------------------|\n",
    "| S1       | 100.00      | 2232.11     | 21.81         | 51.62      | 77.25              |\n",
    "| S2       | 98.33       | 2387.57     | 20.61         | 53.74      | 75.66              |\n",
    "| S3       | 95.83       | 2620.77     | 18.81         | 56.92      | 73.28              |"
   ]
  },
  {
   "cell_type": "markdown",
   "id": "9257b5a4",
   "metadata": {},
   "source": [
    "<ul><li>if you want to stay in comfort set: -> S1<ul><li>Internal Temperature: 21.81 °C</li><li>Relative Humidity: 51.62 %</li><li>Energy Saving: 77.25 %</li></ul><li>If you want to minimize energy consumption without taking into account comfort set -> S3</li><li>If you want to minimize energy consumption with an acceptable comfort set: -> S2</li></ul>"
   ]
  },
  {
   "cell_type": "markdown",
   "id": "532479fe",
   "metadata": {},
   "source": [
    "<hr>"
   ]
  },
  {
   "cell_type": "markdown",
   "id": "750cd1d3",
   "metadata": {},
   "source": [
    "#### 2) To show sPMV values in DT, should we take the information from the sPMV column of features_with_forecast.csv file?"
   ]
  },
  {
   "cell_type": "markdown",
   "id": "34754202",
   "metadata": {},
   "source": [
    "#### Answer: sPMV is calculated using temperature and humidity"
   ]
  },
  {
   "cell_type": "markdown",
   "id": "24cd4954",
   "metadata": {},
   "source": [
    "#### Do you think showing the current day values is enough?"
   ]
  },
  {
   "cell_type": "markdown",
   "id": "68922d6c",
   "metadata": {},
   "source": [
    "#### Answer: next 24 hours for the forecasting and last week for the historical"
   ]
  },
  {
   "cell_type": "markdown",
   "id": "2f8182f0",
   "metadata": {},
   "source": [
    "| time                      | sPMV | baseline | flexibility_below | energy_average | t_r   | rh_r  | hour | day_of_week | is_weekend | forecasted_sPMV | co2_ppm |\n",
    "|---------------------------|------|----------|-------------------|----------------|-------|-------|------|-------------|------------|-----------------|---------|\n",
    "| 2024-07-04 21:00:00+00:00 | 0.68 | 133.825  | 123.98            | 128.9025       | 26.86 | 47.42 | 21   | 3           | 0          | 0.78            | 744.83  |\n",
    "| 2024-07-04 22:00:00+00:00 | 0.73 | 102.19   | 101.08            | 101.635        | 27.00 | 49.19 | 22   | 3           | 0          | 0.807           | 633.086 |\n"
   ]
  },
  {
   "cell_type": "markdown",
   "id": "c7b19958",
   "metadata": {},
   "source": [
    "<hr>"
   ]
  },
  {
   "cell_type": "markdown",
   "id": "f45d4290",
   "metadata": {},
   "source": [
    "#### 3) Dataset Creation"
   ]
  },
  {
   "cell_type": "markdown",
   "id": "ddcd6d1d",
   "metadata": {},
   "source": [
    "<table>\n",
    "      <tr>\n",
    "        <th>Column</th>\n",
    "        <th>Description</th>\n",
    "        <th>Unit/Format</th>\n",
    "        <th>Question</th>\n",
    "        <th>Answer</th>\n",
    "      </tr>\n",
    "      <tr>\n",
    "        <td>Timestamp</td>\n",
    "        <td>Date and time of the record</td>\n",
    "        <td>YYYY-MM-DD HH:MM:SS</td>\n",
    "        <td></td>\n",
    "        <td></td>\n",
    "      </tr>\n",
    "      <tr>\n",
    "        <td>sPMV</td>\n",
    "        <td>Simplified Predicted Mean Vote value</td>\n",
    "        <td>Float (-3 to +3)</td>\n",
    "        <td>How to get this info?</td>\n",
    "        <td>function output</td>\n",
    "      </tr>\n",
    "      <tr>\n",
    "        <td>Baseline energy</td>\n",
    "        <td>Reference energy consumption</td>\n",
    "        <td>Wh</td>\n",
    "        <td>How to get this info?</td>\n",
    "        <td>From NTUA</td>\n",
    "      </tr>\n",
    "      <tr>\n",
    "        <td>Flexibility below</td>\n",
    "        <td>Energy flexibility range below baseline</td>\n",
    "        <td>Wh</td>\n",
    "        <td>How to get this info?</td>\n",
    "        <td>From NTUA</td>\n",
    "      </tr>\n",
    "      <tr>\n",
    "        <td>Energy average</td>\n",
    "        <td>Average energy consumption</td>\n",
    "        <td>Wh</td>\n",
    "        <td>How to get this info?</td>\n",
    "        <td>Baseline energy and flexibility below average value.</td>\n",
    "      </tr>\n",
    "      <tr>\n",
    "        <td>Indoor temperature</td>\n",
    "        <td>Indoor air temperature (t_r)</td>\n",
    "        <td>°C</td>\n",
    "        <td>From ISRAA(Domx) APIs? Which are the sensors? We need to group the sensors values?</td>\n",
    "        <td>we have the list of the sensors, 1 sensor for each apartment.</td>\n",
    "      </tr>\n",
    "      <tr>\n",
    "        <td>Indoor humidity</td>\n",
    "        <td>Indoor relative humidity (rh_r)</td>\n",
    "        <td>%</td>\n",
    "        <td>From ISRAA(Domx) APIs? Which are the sensors? We need to group the sensors values?</td>\n",
    "        <td>we have the list of the sensors, 1 sensor for each apartment.</td>\n",
    "      </tr>\n",
    "      <tr>\n",
    "        <td>Hour</td>\n",
    "        <td>Hour of day</td>\n",
    "        <td>0-23</td>\n",
    "        <td></td>\n",
    "        <td></td>\n",
    "      </tr>\n",
    "      <tr>\n",
    "        <td>Day of week</td>\n",
    "        <td>Day of the week</td>\n",
    "        <td>0-6 (0=Monday, 6=Sunday)</td>\n",
    "        <td></td>\n",
    "        <td></td>\n",
    "      </tr>\n",
    "      <tr>\n",
    "        <td>Is weekend</td>\n",
    "        <td>Whether the day is a weekend</td>\n",
    "        <td>0 or 1</td>\n",
    "        <td></td>\n",
    "        <td></td>\n",
    "      </tr>\n",
    "      <tr>\n",
    "        <td>Forecasted sPMV</td>\n",
    "        <td>Predicted sPMV from LSTM model</td>\n",
    "        <td>Float (-3 to +3)</td>\n",
    "        <td></td>\n",
    "        <td></td>\n",
    "      </tr>\n",
    "      <tr>\n",
    "        <td>CO₂ concentration</td>\n",
    "        <td>Carbon dioxide level (if available)</td>\n",
    "        <td>ppm</td>\n",
    "        <td>From ISRAA(Domx) APIs? Which are the sensors? We need to group the sensors values?</td>\n",
    "        <td>we have the list of the sensors, 1 sensor for each apartment.</td>\n",
    "      </tr>\n",
    "    </table>"
   ]
  },
  {
   "cell_type": "markdown",
   "id": "417f121d",
   "metadata": {},
   "source": [
    "#### Answer: baseline energy and flexibility below are provided by NTUA. Energy average is the average value beetwen the two of NTUA."
   ]
  },
  {
   "cell_type": "markdown",
   "id": "c8755113",
   "metadata": {},
   "source": [
    "<hr>"
   ]
  },
  {
   "cell_type": "markdown",
   "id": "37f9b1c8",
   "metadata": {},
   "source": [
    "#### 4) Why do you need the target data? In your code it is January 31, but in a more general case it is the next day (tomorrow)?"
   ]
  },
  {
   "cell_type": "markdown",
   "id": "1e4c5fb6",
   "metadata": {},
   "source": [
    "#### Answer: is only to measure the quality"
   ]
  },
  {
   "cell_type": "markdown",
   "id": "0e26ffe8",
   "metadata": {},
   "source": [
    "<hr>"
   ]
  },
  {
   "cell_type": "markdown",
   "id": "9af01e38",
   "metadata": {},
   "source": [
    "#### 5) In DT dashboard we have also the Termal Sensation Vote chart. How and where can we get the data to show in this chart?"
   ]
  },
  {
   "cell_type": "markdown",
   "id": "2ad7ca98",
   "metadata": {},
   "source": [
    "#### Answer: There are no Thermal Sensation votes at this time."
   ]
  },
  {
   "cell_type": "markdown",
   "id": "e39d1e93",
   "metadata": {},
   "source": [
    "<hr>"
   ]
  },
  {
   "cell_type": "markdown",
   "id": "a4fe5240",
   "metadata": {},
   "source": [
    "#### 6) To get the next day's recommendations, do we need to retrain the forecasting model for sPMV values, or can we just use the model, already trained, to get the sPMV values for the next day and use those for optimization?"
   ]
  },
  {
   "cell_type": "markdown",
   "id": "f6b276de",
   "metadata": {},
   "source": [
    "#### Answer: No. We can use the model already trained. They agree with the service process below."
   ]
  },
  {
   "cell_type": "markdown",
   "id": "0e898e52",
   "metadata": {},
   "source": [
    "just to be clear, our idea is: "
   ]
  },
  {
   "cell_type": "markdown",
   "id": "ffdc532b",
   "metadata": {},
   "source": [
    "- during the night (e.g. at 01:00 AM):\n",
    "    - **Download** yesterday's necessary sensor data from ISRAA(Domx) APIs (e.g. tr, rh_t, energy average)\n",
    "    - **Calculate** the remaing values (e.g. hour, day of week, sPMV...) for yestarday.\n",
    "    - **Add a row** for yestarday value in the dataset file (features_with_forecast.csv).\n",
    "    - **Start** prediction using the model *final_model.h5* to estimate the values of forecasted sPMV and update the features_with_forecast.csv file.\n",
    "    - **Run** pareto optimization to obtain tomorrow's s1, s2, s3 profiles and the summary.\n",
    "- After the script has finished, the user views the data and recommendations for the current day in the DT."
   ]
  },
  {
   "cell_type": "markdown",
   "id": "52742f77",
   "metadata": {},
   "source": [
    "<hr>"
   ]
  },
  {
   "cell_type": "markdown",
   "id": "dceee5b9",
   "metadata": {},
   "source": [
    "#### 7) Do we need to use all historical data to make a prediction for tomorrow, or is it sufficient to consider only recent data (e.g., the last 7 days, 15 days, 30 days, or 1 year)? "
   ]
  },
  {
   "cell_type": "markdown",
   "id": "2c88da8b",
   "metadata": {},
   "source": [
    "For the recommendation we need all the historical data. Therefore we need to have and maintain the enteire dataset with all values until execution."
   ]
  },
  {
   "cell_type": "markdown",
   "id": "e028e387",
   "metadata": {},
   "source": [
    "<hr>"
   ]
  },
  {
   "cell_type": "markdown",
   "id": "1e9eac27",
   "metadata": {},
   "source": [
    "#### 8) Why do we have data for 2025-01-31 in the features_with_forecast.csv file if we're supposed to make a prediction for that day (2025-01-31)? Shouldn't the last value in features_with_forecast.csv be for 2025-01-30 instead? When the data for 2025-01-31 is omitted, an error occurs. "
   ]
  },
  {
   "cell_type": "markdown",
   "id": "d9d8a31b",
   "metadata": {},
   "source": [
    "#### Answer: is only to measure the quality. in \"pareto_optimization_runner.py:240\" there is a split in historical and target data. The target one contains only the 31 january data."
   ]
  },
  {
   "cell_type": "markdown",
   "id": "e1f66e34",
   "metadata": {},
   "source": [
    "<hr>"
   ]
  },
  {
   "cell_type": "markdown",
   "id": "f8e64819",
   "metadata": {},
   "source": [
    "#### 9) How can I start optimization without target day?"
   ]
  },
  {
   "cell_type": "markdown",
   "id": "b26c6fb0",
   "metadata": {},
   "source": [
    "#### Answer: they will do the modifications for us."
   ]
  },
  {
   "cell_type": "markdown",
   "id": "64a4c4e1",
   "metadata": {},
   "source": [
    "<hr>"
   ]
  },
  {
   "cell_type": "markdown",
   "id": "8118a839",
   "metadata": {},
   "source": [
    "#### 10) at running time we will have real data (t_h, energy_average, rh_r, forecasted_sPMV) for yesterday and forecasted data for today (forecasted_sPMV). Thus, we can perform pareto optimization on the historical data up to and including yesterday. In this way are the recommendations for today or for yesterday?"
   ]
  },
  {
   "cell_type": "markdown",
   "id": "730dd827",
   "metadata": {},
   "source": [
    "#### Answer: the recommendations are for today. We don't need to change nothing"
   ]
  },
  {
   "cell_type": "markdown",
   "id": "2ab32575",
   "metadata": {},
   "source": []
  }
 ],
 "metadata": {
  "kernelspec": {
   "display_name": "base",
   "language": "python",
   "name": "python3"
  },
  "language_info": {
   "name": "python",
   "version": "3.12.4"
  }
 },
 "nbformat": 4,
 "nbformat_minor": 5
}
